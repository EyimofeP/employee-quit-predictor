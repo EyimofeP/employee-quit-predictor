{
 "cells": [
  {
   "cell_type": "markdown",
   "id": "9a7362c9",
   "metadata": {},
   "source": [
    "# HR Department Leave"
   ]
  },
  {
   "cell_type": "markdown",
   "id": "711e2fbe",
   "metadata": {},
   "source": [
    "This project we are exploring the data of employees of a company given to us by their Human Resources Deparment, our Job is to identify the patterns of this data and predict given some certainn conditions if an employee would leave or stay in the company"
   ]
  },
  {
   "cell_type": "markdown",
   "id": "6c4db0df",
   "metadata": {},
   "source": [
    "### Features\n",
    "* Satisfaction_level\n",
    "* Last_evaluation\n",
    "* Number_project\n",
    "* Average_montly_hours\n",
    "* Time_spend_company\n",
    "* Work_accident\n",
    "* Promotion_last_5years\n",
    "* Department\n",
    "* Salary\n",
    "\n",
    "### Target\n",
    "* Left"
   ]
  },
  {
   "cell_type": "markdown",
   "id": "a83e9723",
   "metadata": {},
   "source": [
    "### Import Starter Libraries "
   ]
  },
  {
   "cell_type": "code",
   "execution_count": null,
   "id": "2927afd1",
   "metadata": {},
   "outputs": [],
   "source": [
    "#Starter Libraries\n",
    "import pandas as pd\n",
    "import seaborn as sns\n",
    "import matplotlib.pyplot as plt\n",
    "\n",
    "%matplotlib inline\n",
    "sns.set_style(\"darkgrid\")\n",
    "sns.set_palette(\"prism\")"
   ]
  },
  {
   "cell_type": "markdown",
   "id": "0634867b",
   "metadata": {},
   "source": [
    "* Explore dataset\n",
    "* EDA\n",
    "* Data Cleaning and Feature Enginerring\n",
    "* Test and Train Split\n",
    "* Model Training\n",
    "* Model Evaluation and Performance"
   ]
  },
  {
   "cell_type": "markdown",
   "id": "1248b73e",
   "metadata": {},
   "source": [
    "### Exploratory Data Analysis"
   ]
  },
  {
   "cell_type": "code",
   "execution_count": null,
   "id": "2cb77ce5",
   "metadata": {},
   "outputs": [],
   "source": [
    "hr = pd.read_csv(\"HR_comma_sep.csv\")"
   ]
  },
  {
   "cell_type": "code",
   "execution_count": null,
   "id": "4e221924",
   "metadata": {},
   "outputs": [],
   "source": [
    "hr.head()"
   ]
  },
  {
   "cell_type": "markdown",
   "id": "60d33fe9",
   "metadata": {},
   "source": [
    "Okay, this dataset probably has a really Good Data entry personnel or it's fake, but  since we are seeing this from a real world problem view, we'll assume that they have a good data entry personnel\n",
    "\n",
    "Probably should be entering the data for all my projects...😂😂"
   ]
  },
  {
   "cell_type": "code",
   "execution_count": null,
   "id": "d9ee6b0f",
   "metadata": {},
   "outputs": [],
   "source": [
    "hr.info()"
   ]
  },
  {
   "cell_type": "markdown",
   "id": "161aa815",
   "metadata": {},
   "source": [
    "Wow, someone actually has a satisfaction level of 9%, must be tough"
   ]
  },
  {
   "cell_type": "code",
   "execution_count": null,
   "id": "86fd88b3",
   "metadata": {},
   "outputs": [],
   "source": [
    "hr.describe()"
   ]
  },
  {
   "cell_type": "code",
   "execution_count": null,
   "id": "8fc41b70",
   "metadata": {},
   "outputs": [],
   "source": [
    "#How many people left the company?"
   ]
  },
  {
   "cell_type": "code",
   "execution_count": null,
   "id": "3fb28406",
   "metadata": {},
   "outputs": [],
   "source": [
    "sns.countplot(x=hr[\"left\"]);"
   ]
  },
  {
   "cell_type": "code",
   "execution_count": null,
   "id": "8cca62dc",
   "metadata": {},
   "outputs": [],
   "source": [
    "quit_job = sum(hr[\"left\"] == 1)\n",
    "print(f\"{quit_job} people left the company\")"
   ]
  },
  {
   "cell_type": "code",
   "execution_count": null,
   "id": "0b43775e",
   "metadata": {},
   "outputs": [],
   "source": [
    "# What percentage of people left the company\n",
    "#Notes - Converting int to 2 decimal places"
   ]
  },
  {
   "cell_type": "code",
   "execution_count": null,
   "id": "026c88f8",
   "metadata": {},
   "outputs": [],
   "source": [
    "total_employees = len(hr[\"left\"])\n",
    "quit_rate = (quit_job / total_employees) * 100\n",
    "\n",
    "print(f\"{quit_rate}% of employees left the company\")"
   ]
  },
  {
   "cell_type": "markdown",
   "id": "eba30a08",
   "metadata": {},
   "source": [
    "What are the ratings of the employee's satisfaction level\n",
    "\n",
    "* Excellent - 70%\n",
    "* Really Good - 60%\n",
    "* Good - 50%\n",
    "* Poor - 40%\n",
    "* Bad - Less than 40%"
   ]
  },
  {
   "cell_type": "markdown",
   "id": "b45dd2b7",
   "metadata": {},
   "source": [
    "Let us define a function that would map each of the Satisficationary levels to the criteria we stated above"
   ]
  },
  {
   "cell_type": "code",
   "execution_count": null,
   "id": "c81c616d",
   "metadata": {},
   "outputs": [],
   "source": [
    "def rating(serie):\n",
    "    ratings = {}\n",
    "    for a in serie:\n",
    "        if a >= 0.7:\n",
    "            ratings[a] = \"Excellent\"\n",
    "        elif (a >= 0.6) and (a < 0.7):\n",
    "            ratings[a] = \"Very Good\"\n",
    "        elif (a >= 0.5) and (a < 0.6):\n",
    "            ratings[a] = \"Average\"\n",
    "        elif (a >= 0.4) and (a < 0.5):\n",
    "            ratings[a] = \"Poor\"\n",
    "        else:\n",
    "            ratings[a] = \"Bad\"\n",
    "    return ratings"
   ]
  },
  {
   "cell_type": "code",
   "execution_count": null,
   "id": "519c446d",
   "metadata": {},
   "outputs": [],
   "source": [
    "ratings = rating(hr[\"satisfaction_level\"])\n",
    "hr[\"ratings\"] = hr[\"satisfaction_level\"].map(ratings)"
   ]
  },
  {
   "cell_type": "markdown",
   "id": "80e49f21",
   "metadata": {},
   "source": [
    "A lot of people actually rated their comfort at the company well"
   ]
  },
  {
   "cell_type": "code",
   "execution_count": null,
   "id": "c61e3751",
   "metadata": {},
   "outputs": [],
   "source": [
    "hr[\"ratings\"].value_counts(normalize=True)*100"
   ]
  },
  {
   "cell_type": "markdown",
   "id": "10dc1d16",
   "metadata": {},
   "source": [
    "So from the plot below, most people that left had either reviewed a poor or bad rating, which we must have expected. \n",
    "\n",
    "But what's shocking is that the third highest group gave a review of Excelent, \n",
    "\n",
    "This may be probably because they moved out of the city or quite based on personal interests that may not have been influenced by the company e.g. the service of the company may have been good to them, but they didnt have passion for the job they were working on e.t.c"
   ]
  },
  {
   "cell_type": "code",
   "execution_count": null,
   "id": "b8d7b956",
   "metadata": {},
   "outputs": [],
   "source": [
    "plt.figure(figsize=[10, 5])\n",
    "sns.countplot(x=hr[\"ratings\"], hue=hr[\"left\"]);"
   ]
  },
  {
   "cell_type": "markdown",
   "id": "de9a4d9f",
   "metadata": {},
   "source": [
    "Let's check the most populated departments"
   ]
  },
  {
   "cell_type": "code",
   "execution_count": null,
   "id": "0d58a777",
   "metadata": {},
   "outputs": [],
   "source": [
    "plt.figure(figsize=[10,5])\n",
    "\n",
    "plt.title(\"Employee's based on Departments\")\n",
    "\n",
    "sns.countplot(y=hr[\"Department\"]);"
   ]
  },
  {
   "cell_type": "markdown",
   "id": "c61d24fd",
   "metadata": {},
   "source": [
    "Frrom the graph below it seems most people left from Sales, Technical and Support department respectively"
   ]
  },
  {
   "cell_type": "code",
   "execution_count": null,
   "id": "73c28ccb",
   "metadata": {},
   "outputs": [],
   "source": [
    "plt.figure(figsize=[10,12])\n",
    "\n",
    "plt.title(\"Employee's based on Departments\")\n",
    "\n",
    "# Rotate value on X axis\n",
    "plt.xticks(rotation=30)\n",
    "\n",
    "sns.countplot(x=hr[\"Department\"], hue=hr[\"left\"]);"
   ]
  },
  {
   "cell_type": "markdown",
   "id": "3217ce2a",
   "metadata": {},
   "source": [
    "It also seems that most people that quit had monthly work hours greater than 200 hours and also around 150 hours of work"
   ]
  },
  {
   "cell_type": "code",
   "execution_count": null,
   "id": "8de38ec5",
   "metadata": {},
   "outputs": [],
   "source": [
    "plt.figure(figsize=[10,7])\n",
    "\n",
    "sns.histplot(x=hr[\"average_montly_hours\"], hue=hr[\"left\"], palette=\"prism\", kde=True);"
   ]
  },
  {
   "cell_type": "markdown",
   "id": "6cc15d2b",
   "metadata": {},
   "source": [
    "Work accident seems to bring no information about why some employees left"
   ]
  },
  {
   "cell_type": "code",
   "execution_count": null,
   "id": "2c457469",
   "metadata": {},
   "outputs": [],
   "source": [
    "sns.countplot(x=hr[\"Work_accident\"], hue=hr[\"left\"], palette=\"prism\");"
   ]
  },
  {
   "cell_type": "code",
   "execution_count": null,
   "id": "0a1cbd4e",
   "metadata": {},
   "outputs": [],
   "source": [
    "plt.figure(figsize=[10,7])\n",
    "sns.countplot(x=hr[\"number_project\"], hue=hr[\"left\"], palette=\"prism\");"
   ]
  },
  {
   "cell_type": "markdown",
   "id": "e9747071",
   "metadata": {},
   "source": [
    "It seems people who didnt get a promotion within 5 years left while people who got one all stayed"
   ]
  },
  {
   "cell_type": "code",
   "execution_count": null,
   "id": "07081b16",
   "metadata": {},
   "outputs": [],
   "source": [
    "plt.figure(figsize=[10,7])\n",
    "sns.countplot(x=hr[\"promotion_last_5years\"], hue=hr[\"left\"], palette=\"prism\");"
   ]
  },
  {
   "cell_type": "code",
   "execution_count": null,
   "id": "aa303f86",
   "metadata": {},
   "outputs": [],
   "source": [
    "plt.figure(figsize=[10,7])\n",
    "\n",
    "plt.title(\"Employees who left in respect to their duration at company (Years)\")\n",
    "\n",
    "sns.countplot(x=hr[\"time_spend_company\"], hue=hr[\"left\"], palette=\"prism\")\n",
    "\n",
    "plt.xlabel(\"Duration at company (Years)\");"
   ]
  },
  {
   "cell_type": "markdown",
   "id": "407923fb",
   "metadata": {},
   "source": [
    "The people who left the company the most had low grades of salary, which is actually what I most suspected"
   ]
  },
  {
   "cell_type": "code",
   "execution_count": null,
   "id": "80b63217",
   "metadata": {},
   "outputs": [],
   "source": [
    "plt.figure(figsize=[10, 6])\n",
    "\n",
    "plt.title(\"Employees who left in respect to their salary\")\n",
    "\n",
    "sns.countplot(y=hr[\"salary\"], hue=hr[\"left\"]);"
   ]
  },
  {
   "cell_type": "markdown",
   "id": "3ac7bb81",
   "metadata": {},
   "source": [
    "### Model Training"
   ]
  },
  {
   "cell_type": "markdown",
   "id": "1c741ce1",
   "metadata": {},
   "source": [
    "Okay let us get to a more interesting part of our project predicting if an employee would stay or leave based on our features"
   ]
  },
  {
   "cell_type": "code",
   "execution_count": null,
   "id": "091370fe",
   "metadata": {},
   "outputs": [],
   "source": [
    "#Mapping sales\n",
    "salary_code = {\"low\" : 1, \"medium\": 2, \"high\": 3}\n",
    "hr[\"salary_code\"] = hr[\"salary\"].map(salary_code)"
   ]
  },
  {
   "cell_type": "code",
   "execution_count": null,
   "id": "27aa1084",
   "metadata": {},
   "outputs": [],
   "source": [
    "# # Reduced accuracy to 79% from 80% using salary mapping\n",
    "\n",
    "# # # Transforming Norminal Categorical Values\n",
    "# from sklearn.preprocessing import OneHotEncoder\n",
    "\n",
    "# enc = OneHotEncoder()\n",
    "# enc.fit(hr[['Department']])\n",
    "# enc.categories_"
   ]
  },
  {
   "cell_type": "code",
   "execution_count": null,
   "id": "c02f9f14",
   "metadata": {},
   "outputs": [],
   "source": [
    "# one_hot = enc.transform(hr[['Department']]).toarray()\n",
    "# hr[['IT', 'RandD', 'accounting', 'hr', 'management', 'marketing',\n",
    "#         'product_mng', 'sales', 'support', 'technical']] = one_hot"
   ]
  },
  {
   "cell_type": "markdown",
   "id": "bf44e258",
   "metadata": {},
   "source": [
    "#### Train and Test Split\n",
    "\n",
    "we would use 70/30 train-test"
   ]
  },
  {
   "cell_type": "code",
   "execution_count": null,
   "id": "5e1fa579",
   "metadata": {},
   "outputs": [],
   "source": [
    "X = hr.drop([\"Department\",\"salary\",\"ratings\", \"left\"], axis=1)\n",
    "y = hr[\"left\"]"
   ]
  },
  {
   "cell_type": "code",
   "execution_count": null,
   "id": "efd61bb1",
   "metadata": {},
   "outputs": [],
   "source": [
    "from sklearn.model_selection import train_test_split"
   ]
  },
  {
   "cell_type": "code",
   "execution_count": null,
   "id": "138d2b87",
   "metadata": {},
   "outputs": [],
   "source": [
    "X_train, X_test, y_train, y_test = train_test_split(X, y, test_size=0.3, random_state=51)"
   ]
  },
  {
   "cell_type": "code",
   "execution_count": null,
   "id": "d9249708",
   "metadata": {},
   "outputs": [],
   "source": [
    "from sklearn.tree import DecisionTreeClassifier"
   ]
  },
  {
   "cell_type": "code",
   "execution_count": null,
   "id": "85eefb46",
   "metadata": {},
   "outputs": [],
   "source": [
    "model = DecisionTreeClassifier()"
   ]
  },
  {
   "cell_type": "code",
   "execution_count": null,
   "id": "855ee194",
   "metadata": {
    "scrolled": true
   },
   "outputs": [],
   "source": [
    "model.fit(X_train, y_train)"
   ]
  },
  {
   "cell_type": "code",
   "execution_count": null,
   "id": "20643cfd",
   "metadata": {},
   "outputs": [],
   "source": [
    "predictions = model.predict(X_test)"
   ]
  },
  {
   "cell_type": "code",
   "execution_count": null,
   "id": "240bdd66",
   "metadata": {},
   "outputs": [],
   "source": [
    "compare_df = pd.DataFrame(\n",
    "    {\n",
    "        \"Target\" : y_test,\n",
    "        \"Prediction\" : predictions\n",
    "    }\n",
    ")"
   ]
  },
  {
   "cell_type": "code",
   "execution_count": null,
   "id": "8ed7eadf",
   "metadata": {},
   "outputs": [],
   "source": [
    "compare_df.sample(10)"
   ]
  },
  {
   "cell_type": "markdown",
   "id": "a3b60b04",
   "metadata": {},
   "source": [
    "###  Model Evaluation and Performance"
   ]
  },
  {
   "cell_type": "code",
   "execution_count": null,
   "id": "480abae0",
   "metadata": {},
   "outputs": [],
   "source": [
    "from sklearn.metrics import classification_report, confusion_matrix"
   ]
  },
  {
   "cell_type": "code",
   "execution_count": null,
   "id": "55279ff7",
   "metadata": {},
   "outputs": [],
   "source": [
    "print(classification_report(y_test, predictions))"
   ]
  },
  {
   "cell_type": "code",
   "execution_count": null,
   "id": "47c8b1a4",
   "metadata": {},
   "outputs": [],
   "source": [
    "sns.heatmap(confusion_matrix(y_test, predictions), annot=True, cbar=False, fmt=\"d\")"
   ]
  }
 ],
 "metadata": {
  "kernelspec": {
   "display_name": "Python 3",
   "language": "python",
   "name": "python3"
  },
  "language_info": {
   "codemirror_mode": {
    "name": "ipython",
    "version": 3
   },
   "file_extension": ".py",
   "mimetype": "text/x-python",
   "name": "python",
   "nbconvert_exporter": "python",
   "pygments_lexer": "ipython3",
   "version": "3.8.8"
  }
 },
 "nbformat": 4,
 "nbformat_minor": 5
}
