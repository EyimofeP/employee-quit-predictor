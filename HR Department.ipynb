{
 "cells": [
  {
   "cell_type": "markdown",
   "id": "9a7362c9",
   "metadata": {},
   "source": [
    "# HR Department Leave"
   ]
  },
  {
   "cell_type": "markdown",
   "id": "711e2fbe",
   "metadata": {},
   "source": [
    "This project we are exploring the data of employees of a company given to us by their Human Resources Deparment, our Job is to identify the patterns of this data and predict given some certainn conditions if an employee would leave or stay in the company"
   ]
  },
  {
   "cell_type": "markdown",
   "id": "6c4db0df",
   "metadata": {},
   "source": [
    "### Features\n",
    "* Satisfaction_level\n",
    "* Last_evaluation\n",
    "* Number_project\n",
    "* Average_montly_hours\n",
    "* Time_spend_company\n",
    "* Work_accident\n",
    "* Promotion_last_5years\n",
    "* Department\n",
    "* Salary\n",
    "\n",
    "### Target\n",
    "* Left"
   ]
  },
  {
   "cell_type": "markdown",
   "id": "a83e9723",
   "metadata": {},
   "source": [
    "### Import Starter Libraries "
   ]
  },
  {
   "cell_type": "code",
   "execution_count": 38,
   "id": "2927afd1",
   "metadata": {},
   "outputs": [],
   "source": [
    "#Starter Libraries\n",
    "import pandas as pd\n",
    "import seaborn as sns\n",
    "import matplotlib.pyplot as plt\n",
    "\n",
    "%matplotlib inline\n",
    "sns.set_style(\"darkgrid\")\n",
    "sns.set_palette(\"prism\")"
   ]
  },
  {
   "cell_type": "markdown",
   "id": "0634867b",
   "metadata": {},
   "source": [
    "* Explore dataset\n",
    "* EDA\n",
    "* Data Cleaning and Feature Enginerring\n",
    "* Test and Train Split\n",
    "* Model Training\n",
    "* Model Evaluation and Performance"
   ]
  },
  {
   "cell_type": "markdown",
   "id": "1248b73e",
   "metadata": {},
   "source": [
    "### Exploratory Data Analysis"
   ]
  },
  {
   "cell_type": "code",
   "execution_count": 39,
   "id": "2cb77ce5",
   "metadata": {},
   "outputs": [],
   "source": [
    "hr = pd.read_csv(\"HR_comma_sep.csv\")"
   ]
  },
  {
   "cell_type": "code",
   "execution_count": 40,
   "id": "4e221924",
   "metadata": {},
   "outputs": [
    {
     "data": {
      "text/html": [
       "<div>\n",
       "<style scoped>\n",
       "    .dataframe tbody tr th:only-of-type {\n",
       "        vertical-align: middle;\n",
       "    }\n",
       "\n",
       "    .dataframe tbody tr th {\n",
       "        vertical-align: top;\n",
       "    }\n",
       "\n",
       "    .dataframe thead th {\n",
       "        text-align: right;\n",
       "    }\n",
       "</style>\n",
       "<table border=\"1\" class=\"dataframe\">\n",
       "  <thead>\n",
       "    <tr style=\"text-align: right;\">\n",
       "      <th></th>\n",
       "      <th>satisfaction_level</th>\n",
       "      <th>last_evaluation</th>\n",
       "      <th>number_project</th>\n",
       "      <th>average_montly_hours</th>\n",
       "      <th>time_spend_company</th>\n",
       "      <th>Work_accident</th>\n",
       "      <th>left</th>\n",
       "      <th>promotion_last_5years</th>\n",
       "      <th>Department</th>\n",
       "      <th>salary</th>\n",
       "    </tr>\n",
       "  </thead>\n",
       "  <tbody>\n",
       "    <tr>\n",
       "      <th>0</th>\n",
       "      <td>0.38</td>\n",
       "      <td>0.53</td>\n",
       "      <td>2</td>\n",
       "      <td>157</td>\n",
       "      <td>3</td>\n",
       "      <td>0</td>\n",
       "      <td>1</td>\n",
       "      <td>0</td>\n",
       "      <td>sales</td>\n",
       "      <td>low</td>\n",
       "    </tr>\n",
       "    <tr>\n",
       "      <th>1</th>\n",
       "      <td>0.80</td>\n",
       "      <td>0.86</td>\n",
       "      <td>5</td>\n",
       "      <td>262</td>\n",
       "      <td>6</td>\n",
       "      <td>0</td>\n",
       "      <td>1</td>\n",
       "      <td>0</td>\n",
       "      <td>sales</td>\n",
       "      <td>medium</td>\n",
       "    </tr>\n",
       "    <tr>\n",
       "      <th>2</th>\n",
       "      <td>0.11</td>\n",
       "      <td>0.88</td>\n",
       "      <td>7</td>\n",
       "      <td>272</td>\n",
       "      <td>4</td>\n",
       "      <td>0</td>\n",
       "      <td>1</td>\n",
       "      <td>0</td>\n",
       "      <td>sales</td>\n",
       "      <td>medium</td>\n",
       "    </tr>\n",
       "    <tr>\n",
       "      <th>3</th>\n",
       "      <td>0.72</td>\n",
       "      <td>0.87</td>\n",
       "      <td>5</td>\n",
       "      <td>223</td>\n",
       "      <td>5</td>\n",
       "      <td>0</td>\n",
       "      <td>1</td>\n",
       "      <td>0</td>\n",
       "      <td>sales</td>\n",
       "      <td>low</td>\n",
       "    </tr>\n",
       "    <tr>\n",
       "      <th>4</th>\n",
       "      <td>0.37</td>\n",
       "      <td>0.52</td>\n",
       "      <td>2</td>\n",
       "      <td>159</td>\n",
       "      <td>3</td>\n",
       "      <td>0</td>\n",
       "      <td>1</td>\n",
       "      <td>0</td>\n",
       "      <td>sales</td>\n",
       "      <td>low</td>\n",
       "    </tr>\n",
       "  </tbody>\n",
       "</table>\n",
       "</div>"
      ],
      "text/plain": [
       "   satisfaction_level  last_evaluation  number_project  average_montly_hours  \\\n",
       "0                0.38             0.53               2                   157   \n",
       "1                0.80             0.86               5                   262   \n",
       "2                0.11             0.88               7                   272   \n",
       "3                0.72             0.87               5                   223   \n",
       "4                0.37             0.52               2                   159   \n",
       "\n",
       "   time_spend_company  Work_accident  left  promotion_last_5years Department  \\\n",
       "0                   3              0     1                      0      sales   \n",
       "1                   6              0     1                      0      sales   \n",
       "2                   4              0     1                      0      sales   \n",
       "3                   5              0     1                      0      sales   \n",
       "4                   3              0     1                      0      sales   \n",
       "\n",
       "   salary  \n",
       "0     low  \n",
       "1  medium  \n",
       "2  medium  \n",
       "3     low  \n",
       "4     low  "
      ]
     },
     "execution_count": 40,
     "metadata": {},
     "output_type": "execute_result"
    }
   ],
   "source": [
    "hr.head()"
   ]
  },
  {
   "cell_type": "markdown",
   "id": "60d33fe9",
   "metadata": {},
   "source": [
    "Okay, this dataset probably has a really Good Data entry personnel or it's fake, but  since we are seeing this from a real world problem view, we'll assume that they have a good data entry personnel\n",
    "\n",
    "Probably should be entering the data for all my projects...😂😂"
   ]
  },
  {
   "cell_type": "code",
   "execution_count": 41,
   "id": "d9ee6b0f",
   "metadata": {},
   "outputs": [
    {
     "name": "stdout",
     "output_type": "stream",
     "text": [
      "<class 'pandas.core.frame.DataFrame'>\n",
      "RangeIndex: 14999 entries, 0 to 14998\n",
      "Data columns (total 10 columns):\n",
      " #   Column                 Non-Null Count  Dtype  \n",
      "---  ------                 --------------  -----  \n",
      " 0   satisfaction_level     14999 non-null  float64\n",
      " 1   last_evaluation        14999 non-null  float64\n",
      " 2   number_project         14999 non-null  int64  \n",
      " 3   average_montly_hours   14999 non-null  int64  \n",
      " 4   time_spend_company     14999 non-null  int64  \n",
      " 5   Work_accident          14999 non-null  int64  \n",
      " 6   left                   14999 non-null  int64  \n",
      " 7   promotion_last_5years  14999 non-null  int64  \n",
      " 8   Department             14999 non-null  object \n",
      " 9   salary                 14999 non-null  object \n",
      "dtypes: float64(2), int64(6), object(2)\n",
      "memory usage: 1.1+ MB\n"
     ]
    }
   ],
   "source": [
    "hr.info()"
   ]
  },
  {
   "cell_type": "markdown",
   "id": "161aa815",
   "metadata": {},
   "source": [
    "Wow, someone actually has a satisfaction level of 9%, must be tough"
   ]
  },
  {
   "cell_type": "code",
   "execution_count": 42,
   "id": "86fd88b3",
   "metadata": {},
   "outputs": [
    {
     "data": {
      "text/html": [
       "<div>\n",
       "<style scoped>\n",
       "    .dataframe tbody tr th:only-of-type {\n",
       "        vertical-align: middle;\n",
       "    }\n",
       "\n",
       "    .dataframe tbody tr th {\n",
       "        vertical-align: top;\n",
       "    }\n",
       "\n",
       "    .dataframe thead th {\n",
       "        text-align: right;\n",
       "    }\n",
       "</style>\n",
       "<table border=\"1\" class=\"dataframe\">\n",
       "  <thead>\n",
       "    <tr style=\"text-align: right;\">\n",
       "      <th></th>\n",
       "      <th>satisfaction_level</th>\n",
       "      <th>last_evaluation</th>\n",
       "      <th>number_project</th>\n",
       "      <th>average_montly_hours</th>\n",
       "      <th>time_spend_company</th>\n",
       "      <th>Work_accident</th>\n",
       "      <th>left</th>\n",
       "      <th>promotion_last_5years</th>\n",
       "    </tr>\n",
       "  </thead>\n",
       "  <tbody>\n",
       "    <tr>\n",
       "      <th>count</th>\n",
       "      <td>14999.000000</td>\n",
       "      <td>14999.000000</td>\n",
       "      <td>14999.000000</td>\n",
       "      <td>14999.000000</td>\n",
       "      <td>14999.000000</td>\n",
       "      <td>14999.000000</td>\n",
       "      <td>14999.000000</td>\n",
       "      <td>14999.000000</td>\n",
       "    </tr>\n",
       "    <tr>\n",
       "      <th>mean</th>\n",
       "      <td>0.612834</td>\n",
       "      <td>0.716102</td>\n",
       "      <td>3.803054</td>\n",
       "      <td>201.050337</td>\n",
       "      <td>3.498233</td>\n",
       "      <td>0.144610</td>\n",
       "      <td>0.238083</td>\n",
       "      <td>0.021268</td>\n",
       "    </tr>\n",
       "    <tr>\n",
       "      <th>std</th>\n",
       "      <td>0.248631</td>\n",
       "      <td>0.171169</td>\n",
       "      <td>1.232592</td>\n",
       "      <td>49.943099</td>\n",
       "      <td>1.460136</td>\n",
       "      <td>0.351719</td>\n",
       "      <td>0.425924</td>\n",
       "      <td>0.144281</td>\n",
       "    </tr>\n",
       "    <tr>\n",
       "      <th>min</th>\n",
       "      <td>0.090000</td>\n",
       "      <td>0.360000</td>\n",
       "      <td>2.000000</td>\n",
       "      <td>96.000000</td>\n",
       "      <td>2.000000</td>\n",
       "      <td>0.000000</td>\n",
       "      <td>0.000000</td>\n",
       "      <td>0.000000</td>\n",
       "    </tr>\n",
       "    <tr>\n",
       "      <th>25%</th>\n",
       "      <td>0.440000</td>\n",
       "      <td>0.560000</td>\n",
       "      <td>3.000000</td>\n",
       "      <td>156.000000</td>\n",
       "      <td>3.000000</td>\n",
       "      <td>0.000000</td>\n",
       "      <td>0.000000</td>\n",
       "      <td>0.000000</td>\n",
       "    </tr>\n",
       "    <tr>\n",
       "      <th>50%</th>\n",
       "      <td>0.640000</td>\n",
       "      <td>0.720000</td>\n",
       "      <td>4.000000</td>\n",
       "      <td>200.000000</td>\n",
       "      <td>3.000000</td>\n",
       "      <td>0.000000</td>\n",
       "      <td>0.000000</td>\n",
       "      <td>0.000000</td>\n",
       "    </tr>\n",
       "    <tr>\n",
       "      <th>75%</th>\n",
       "      <td>0.820000</td>\n",
       "      <td>0.870000</td>\n",
       "      <td>5.000000</td>\n",
       "      <td>245.000000</td>\n",
       "      <td>4.000000</td>\n",
       "      <td>0.000000</td>\n",
       "      <td>0.000000</td>\n",
       "      <td>0.000000</td>\n",
       "    </tr>\n",
       "    <tr>\n",
       "      <th>max</th>\n",
       "      <td>1.000000</td>\n",
       "      <td>1.000000</td>\n",
       "      <td>7.000000</td>\n",
       "      <td>310.000000</td>\n",
       "      <td>10.000000</td>\n",
       "      <td>1.000000</td>\n",
       "      <td>1.000000</td>\n",
       "      <td>1.000000</td>\n",
       "    </tr>\n",
       "  </tbody>\n",
       "</table>\n",
       "</div>"
      ],
      "text/plain": [
       "       satisfaction_level  last_evaluation  number_project  \\\n",
       "count        14999.000000     14999.000000    14999.000000   \n",
       "mean             0.612834         0.716102        3.803054   \n",
       "std              0.248631         0.171169        1.232592   \n",
       "min              0.090000         0.360000        2.000000   \n",
       "25%              0.440000         0.560000        3.000000   \n",
       "50%              0.640000         0.720000        4.000000   \n",
       "75%              0.820000         0.870000        5.000000   \n",
       "max              1.000000         1.000000        7.000000   \n",
       "\n",
       "       average_montly_hours  time_spend_company  Work_accident          left  \\\n",
       "count          14999.000000        14999.000000   14999.000000  14999.000000   \n",
       "mean             201.050337            3.498233       0.144610      0.238083   \n",
       "std               49.943099            1.460136       0.351719      0.425924   \n",
       "min               96.000000            2.000000       0.000000      0.000000   \n",
       "25%              156.000000            3.000000       0.000000      0.000000   \n",
       "50%              200.000000            3.000000       0.000000      0.000000   \n",
       "75%              245.000000            4.000000       0.000000      0.000000   \n",
       "max              310.000000           10.000000       1.000000      1.000000   \n",
       "\n",
       "       promotion_last_5years  \n",
       "count           14999.000000  \n",
       "mean                0.021268  \n",
       "std                 0.144281  \n",
       "min                 0.000000  \n",
       "25%                 0.000000  \n",
       "50%                 0.000000  \n",
       "75%                 0.000000  \n",
       "max                 1.000000  "
      ]
     },
     "execution_count": 42,
     "metadata": {},
     "output_type": "execute_result"
    }
   ],
   "source": [
    "hr.describe()"
   ]
  },
  {
   "cell_type": "code",
   "execution_count": 43,
   "id": "8fc41b70",
   "metadata": {},
   "outputs": [],
   "source": [
    "#How many people left the company?"
   ]
  },
  {
   "cell_type": "code",
   "execution_count": 44,
   "id": "3fb28406",
   "metadata": {},
   "outputs": [
    {
     "data": {
      "image/png": "[encoded data removed]",
      "text/plain": [
       "<Figure size 432x288 with 1 Axes>"
      ]
     },
     "metadata": {},
     "output_type": "display_data"
    }
   ],
   "source": [
    "sns.countplot(x=hr[\"left\"]);"
   ]
  },
  {
   "cell_type": "code",
   "execution_count": 45,
   "id": "8cca62dc",
   "metadata": {},
   "outputs": [
    {
     "name": "stdout",
     "output_type": "stream",
     "text": [
      "3571 people left the company\n"
     ]
    }
   ],
   "source": [
    "quit_job = sum(hr[\"left\"] == 1)\n",
    "print(f\"{quit_job} people left the company\")"
   ]
  },
  {
   "cell_type": "code",
   "execution_count": 46,
   "id": "0b43775e",
   "metadata": {},
   "outputs": [],
   "source": [
    "# What percentage of people left the company\n",
    "#Notes - Converting int to 2 decimal places"
   ]
  },
  {
   "cell_type": "code",
   "execution_count": 47,
   "id": "026c88f8",
   "metadata": {},
   "outputs": [
    {
     "name": "stdout",
     "output_type": "stream",
     "text": [
      "23.80825388359224% of employees left the company\n"
     ]
    }
   ],
   "source": [
    "total_employees = len(hr[\"left\"])\n",
    "quit_rate = (quit_job / total_employees) * 100\n",
    "\n",
    "print(f\"{quit_rate}% of employees left the company\")"
   ]
  },
  {
   "cell_type": "markdown",
   "id": "eba30a08",
   "metadata": {},
   "source": [
    "What are the ratings of the employee's satisfaction level\n",
    "\n",
    "* Excellent - 70%\n",
    "* Really Good - 60%\n",
    "* Good - 50%\n",
    "* Poor - 40%\n",
    "* Bad - Less than 40%"
   ]
  },
  {
   "cell_type": "markdown",
   "id": "b45dd2b7",
   "metadata": {},
   "source": [
    "Let us define a function that would map each of the Satisficationary levels to the criteria we stated above"
   ]
  },
  {
   "cell_type": "code",
   "execution_count": 48,
   "id": "c81c616d",
   "metadata": {},
   "outputs": [],
   "source": [
    "def rating(serie):\n",
    "    ratings = {}\n",
    "    for a in serie:\n",
    "        if a >= 0.7:\n",
    "            ratings[a] = \"Excellent\"\n",
    "        elif (a >= 0.6) and (a < 0.7):\n",
    "            ratings[a] = \"Very Good\"\n",
    "        elif (a >= 0.5) and (a < 0.6):\n",
    "            ratings[a] = \"Average\"\n",
    "        elif (a >= 0.4) and (a < 0.5):\n",
    "            ratings[a] = \"Poor\"\n",
    "        else:\n",
    "            ratings[a] = \"Bad\"\n",
    "    return ratings"
   ]
  },
  {
   "cell_type": "code",
   "execution_count": 49,
   "id": "519c446d",
   "metadata": {},
   "outputs": [],
   "source": [
    "ratings = rating(hr[\"satisfaction_level\"])\n",
    "hr[\"ratings\"] = hr[\"satisfaction_level\"].map(ratings)"
   ]
  },
  {
   "cell_type": "markdown",
   "id": "80e49f21",
   "metadata": {},
   "source": [
    "A lot of people actually rated their comfort at the company well"
   ]
  },
  {
   "cell_type": "code",
   "execution_count": 50,
   "id": "c61e3751",
   "metadata": {},
   "outputs": [
    {
     "data": {
      "text/plain": [
       "Excellent    43.356224\n",
       "Bad          19.434629\n",
       "Very Good    13.067538\n",
       "Average      13.020868\n",
       "Poor         11.120741\n",
       "Name: ratings, dtype: float64"
      ]
     },
     "execution_count": 50,
     "metadata": {},
     "output_type": "execute_result"
    }
   ],
   "source": [
    "hr[\"ratings\"].value_counts(normalize=True)*100"
   ]
  },
  {
   "cell_type": "markdown",
   "id": "10dc1d16",
   "metadata": {},
   "source": [
    "So from the plot below, most people that left had either reviewed a poor or bad rating, which we must have expected. \n",
    "\n",
    "But what's shocking is that the third highest group gave a review of Excelent, \n",
    "\n",
    "This may be probably because they moved out of the city or quite based on personal interests that may not have been influenced by the company e.g. the service of the company may have been good to them, but they didnt have passion for the job they were working on e.t.c"
   ]
  },
  {
   "cell_type": "code",
   "execution_count": 51,
   "id": "b8d7b956",
   "metadata": {},
   "outputs": [
    {
     "data": {
      "image/png": "[encoded data removed]",
      "text/plain": [
       "<Figure size 720x360 with 1 Axes>"
      ]
     },
     "metadata": {},
     "output_type": "display_data"
    }
   ],
   "source": [
    "plt.figure(figsize=[10, 5])\n",
    "sns.countplot(x=hr[\"ratings\"], hue=hr[\"left\"]);"
   ]
  },
  {
   "cell_type": "markdown",
   "id": "de9a4d9f",
   "metadata": {},
   "source": [
    "Let's check the most populated departments"
   ]
  },
  {
   "cell_type": "code",
   "execution_count": 52,
   "id": "0d58a777",
   "metadata": {},
   "outputs": [
    {
     "data": {
      "image/png": "[encoded data removed]",
      "text/plain": [
       "<Figure size 720x360 with 1 Axes>"
      ]
     },
     "metadata": {},
     "output_type": "display_data"
    }
   ],
   "source": [
    "plt.figure(figsize=[10,5])\n",
    "\n",
    "plt.title(\"Employee's based on Departments\")\n",
    "\n",
    "sns.countplot(y=hr[\"Department\"]);"
   ]
  },
  {
   "cell_type": "markdown",
   "id": "c61d24fd",
   "metadata": {},
   "source": [
    "Frrom the graph below it seems most people left from Sales, Technical and Support department respectively"
   ]
  },
  {
   "cell_type": "code",
   "execution_count": 53,
   "id": "73c28ccb",
   "metadata": {},
   "outputs": [
    {
     "data": {
      "image/png": "[encoded data removed]",
      "text/plain": [
       "<Figure size 720x864 with 1 Axes>"
      ]
     },
     "metadata": {},
     "output_type": "display_data"
    }
   ],
   "source": [
    "plt.figure(figsize=[10,12])\n",
    "\n",
    "plt.title(\"Employee's based on Departments\")\n",
    "\n",
    "# Rotate value on X axis\n",
    "plt.xticks(rotation=30)\n",
    "\n",
    "sns.countplot(x=hr[\"Department\"], hue=hr[\"left\"]);"
   ]
  },
  {
   "cell_type": "markdown",
   "id": "3217ce2a",
   "metadata": {},
   "source": [
    "It also seems that most people that quit had monthly work hours greater than 200 hours and also around 150 hours of work"
   ]
  },
  {
   "cell_type": "code",
   "execution_count": 54,
   "id": "8de38ec5",
   "metadata": {},
   "outputs": [
    {
     "data": {
      "image/png": "[encoded data removed]",
      "text/plain": [
       "<Figure size 720x504 with 1 Axes>"
      ]
     },
     "metadata": {},
     "output_type": "display_data"
    }
   ],
   "source": [
    "plt.figure(figsize=[10,7])\n",
    "\n",
    "sns.histplot(x=hr[\"average_montly_hours\"], hue=hr[\"left\"], palette=\"prism\", kde=True);"
   ]
  },
  {
   "cell_type": "markdown",
   "id": "6cc15d2b",
   "metadata": {},
   "source": [
    "Work accident seems to bring no information about why some employees left"
   ]
  },
  {
   "cell_type": "code",
   "execution_count": 55,
   "id": "2c457469",
   "metadata": {},
   "outputs": [
    {
     "data": {
      "image/png": "[encoded data removed]",
      "text/plain": [
       "<Figure size 432x288 with 1 Axes>"
      ]
     },
     "metadata": {},
     "output_type": "display_data"
    }
   ],
   "source": [
    "sns.countplot(x=hr[\"Work_accident\"], hue=hr[\"left\"], palette=\"prism\");"
   ]
  },
  {
   "cell_type": "code",
   "execution_count": 56,
   "id": "0a1cbd4e",
   "metadata": {},
   "outputs": [
    {
     "data": {
      "image/png": "[encoded data removed]",
      "text/plain": [
       "<Figure size 720x504 with 1 Axes>"
      ]
     },
     "metadata": {},
     "output_type": "display_data"
    }
   ],
   "source": [
    "plt.figure(figsize=[10,7])\n",
    "sns.countplot(x=hr[\"number_project\"], hue=hr[\"left\"], palette=\"prism\");"
   ]
  },
  {
   "cell_type": "markdown",
   "id": "e9747071",
   "metadata": {},
   "source": [
    "It seems people who didnt get a promotion within 5 years left while people who got one all stayed"
   ]
  },
  {
   "cell_type": "code",
   "execution_count": 57,
   "id": "07081b16",
   "metadata": {},
   "outputs": [
    {
     "data": {
      "image/png": "[encoded data removed]",
      "text/plain": [
       "<Figure size 720x504 with 1 Axes>"
      ]
     },
     "metadata": {},
     "output_type": "display_data"
    }
   ],
   "source": [
    "plt.figure(figsize=[10,7])\n",
    "sns.countplot(x=hr[\"promotion_last_5years\"], hue=hr[\"left\"], palette=\"prism\");"
   ]
  },
  {
   "cell_type": "code",
   "execution_count": 58,
   "id": "aa303f86",
   "metadata": {},
   "outputs": [
    {
     "data": {
      "image/png": "[encoded data removed]",
      "text/plain": [
       "<Figure size 720x504 with 1 Axes>"
      ]
     },
     "metadata": {},
     "output_type": "display_data"
    }
   ],
   "source": [
    "plt.figure(figsize=[10,7])\n",
    "\n",
    "plt.title(\"Employees who left in respect to their duration at company (Years)\")\n",
    "\n",
    "sns.countplot(x=hr[\"time_spend_company\"], hue=hr[\"left\"], palette=\"prism\")\n",
    "\n",
    "plt.xlabel(\"Duration at company (Years)\");"
   ]
  },
  {
   "cell_type": "markdown",
   "id": "407923fb",
   "metadata": {},
   "source": [
    "The people who left the company the most had low grades of salary, which is actually what I most suspected"
   ]
  },
  {
   "cell_type": "code",
   "execution_count": 59,
   "id": "80b63217",
   "metadata": {},
   "outputs": [
    {
     "data": {
      "image/png": "[encoded data removed]",
      "text/plain": [
       "<Figure size 720x432 with 1 Axes>"
      ]
     },
     "metadata": {},
     "output_type": "display_data"
    }
   ],
   "source": [
    "plt.figure(figsize=[10, 6])\n",
    "\n",
    "plt.title(\"Employees who left in respect to their salary\")\n",
    "\n",
    "sns.countplot(y=hr[\"salary\"], hue=hr[\"left\"]);"
   ]
  },
  {
   "cell_type": "markdown",
   "id": "3ac7bb81",
   "metadata": {},
   "source": [
    "### Model Training"
   ]
  },
  {
   "cell_type": "markdown",
   "id": "1c741ce1",
   "metadata": {},
   "source": [
    "Okay let us get to a more interesting part of our project predicting if an employee would stay or leave based on our features"
   ]
  },
  {
   "cell_type": "code",
   "execution_count": 60,
   "id": "091370fe",
   "metadata": {},
   "outputs": [],
   "source": [
    "#Mapping sales\n",
    "salary_code = {\"low\" : 1, \"medium\": 2, \"high\": 3}\n",
    "hr[\"salary_code\"] = hr[\"salary\"].map(salary_code)"
   ]
  },
  {
   "cell_type": "code",
   "execution_count": 61,
   "id": "27aa1084",
   "metadata": {},
   "outputs": [],
   "source": [
    "# # Reduced accuracy to 79% from 80% using salary mapping\n",
    "\n",
    "# # # Transforming Norminal Categorical Values\n",
    "# from sklearn.preprocessing import OneHotEncoder\n",
    "\n",
    "# enc = OneHotEncoder()\n",
    "# enc.fit(hr[['Department']])\n",
    "# enc.categories_"
   ]
  },
  {
   "cell_type": "code",
   "execution_count": 62,
   "id": "c02f9f14",
   "metadata": {},
   "outputs": [],
   "source": [
    "# one_hot = enc.transform(hr[['Department']]).toarray()\n",
    "# hr[['IT', 'RandD', 'accounting', 'hr', 'management', 'marketing',\n",
    "#         'product_mng', 'sales', 'support', 'technical']] = one_hot"
   ]
  },
  {
   "cell_type": "markdown",
   "id": "bf44e258",
   "metadata": {},
   "source": [
    "#### Train and Test Split\n",
    "\n",
    "we would use 70/30 train-test"
   ]
  },
  {
   "cell_type": "code",
   "execution_count": 63,
   "id": "5e1fa579",
   "metadata": {},
   "outputs": [],
   "source": [
    "X = hr.drop([\"Department\",\"salary\",\"ratings\", \"left\"], axis=1)\n",
    "y = hr[\"left\"]"
   ]
  },
  {
   "cell_type": "code",
   "execution_count": 64,
   "id": "efd61bb1",
   "metadata": {},
   "outputs": [],
   "source": [
    "from sklearn.model_selection import train_test_split"
   ]
  },
  {
   "cell_type": "code",
   "execution_count": 65,
   "id": "138d2b87",
   "metadata": {},
   "outputs": [],
   "source": [
    "X_train, X_test, y_train, y_test = train_test_split(X, y, test_size=0.3, random_state=51)"
   ]
  },
  {
   "cell_type": "code",
   "execution_count": 66,
   "id": "a008d73b",
   "metadata": {},
   "outputs": [],
   "source": [
    "from sklearn.tree import DecisionTreeClassifier"
   ]
  },
  {
   "cell_type": "code",
   "execution_count": 67,
   "id": "1c192ade",
   "metadata": {},
   "outputs": [],
   "source": [
    "model = DecisionTreeClassifier()"
   ]
  },
  {
   "cell_type": "code",
   "execution_count": 68,
   "id": "4a11daf3",
   "metadata": {
    "scrolled": true
   },
   "outputs": [
    {
     "data": {
      "text/plain": [
       "DecisionTreeClassifier()"
      ]
     },
     "execution_count": 68,
     "metadata": {},
     "output_type": "execute_result"
    }
   ],
   "source": [
    "model.fit(X_train, y_train)"
   ]
  },
  {
   "cell_type": "code",
   "execution_count": 69,
   "id": "9b946316",
   "metadata": {},
   "outputs": [],
   "source": [
    "predictions = model.predict(X_test)"
   ]
  },
  {
   "cell_type": "code",
   "execution_count": 70,
   "id": "3d6ba88c",
   "metadata": {},
   "outputs": [],
   "source": [
    "compare_df = pd.DataFrame(\n",
    "    {\n",
    "        \"Target\" : y_test,\n",
    "        \"Prediction\" : predictions\n",
    "    }\n",
    ")"
   ]
  },
  {
   "cell_type": "code",
   "execution_count": 71,
   "id": "f33f2640",
   "metadata": {},
   "outputs": [
    {
     "data": {
      "text/html": [
       "<div>\n",
       "<style scoped>\n",
       "    .dataframe tbody tr th:only-of-type {\n",
       "        vertical-align: middle;\n",
       "    }\n",
       "\n",
       "    .dataframe tbody tr th {\n",
       "        vertical-align: top;\n",
       "    }\n",
       "\n",
       "    .dataframe thead th {\n",
       "        text-align: right;\n",
       "    }\n",
       "</style>\n",
       "<table border=\"1\" class=\"dataframe\">\n",
       "  <thead>\n",
       "    <tr style=\"text-align: right;\">\n",
       "      <th></th>\n",
       "      <th>Target</th>\n",
       "      <th>Prediction</th>\n",
       "    </tr>\n",
       "  </thead>\n",
       "  <tbody>\n",
       "    <tr>\n",
       "      <th>6978</th>\n",
       "      <td>0</td>\n",
       "      <td>0</td>\n",
       "    </tr>\n",
       "    <tr>\n",
       "      <th>13665</th>\n",
       "      <td>0</td>\n",
       "      <td>0</td>\n",
       "    </tr>\n",
       "    <tr>\n",
       "      <th>9147</th>\n",
       "      <td>0</td>\n",
       "      <td>0</td>\n",
       "    </tr>\n",
       "    <tr>\n",
       "      <th>9491</th>\n",
       "      <td>0</td>\n",
       "      <td>0</td>\n",
       "    </tr>\n",
       "    <tr>\n",
       "      <th>6327</th>\n",
       "      <td>0</td>\n",
       "      <td>0</td>\n",
       "    </tr>\n",
       "    <tr>\n",
       "      <th>10641</th>\n",
       "      <td>0</td>\n",
       "      <td>0</td>\n",
       "    </tr>\n",
       "    <tr>\n",
       "      <th>3431</th>\n",
       "      <td>0</td>\n",
       "      <td>0</td>\n",
       "    </tr>\n",
       "    <tr>\n",
       "      <th>14022</th>\n",
       "      <td>0</td>\n",
       "      <td>0</td>\n",
       "    </tr>\n",
       "    <tr>\n",
       "      <th>2270</th>\n",
       "      <td>0</td>\n",
       "      <td>0</td>\n",
       "    </tr>\n",
       "    <tr>\n",
       "      <th>7852</th>\n",
       "      <td>0</td>\n",
       "      <td>0</td>\n",
       "    </tr>\n",
       "  </tbody>\n",
       "</table>\n",
       "</div>"
      ],
      "text/plain": [
       "       Target  Prediction\n",
       "6978        0           0\n",
       "13665       0           0\n",
       "9147        0           0\n",
       "9491        0           0\n",
       "6327        0           0\n",
       "10641       0           0\n",
       "3431        0           0\n",
       "14022       0           0\n",
       "2270        0           0\n",
       "7852        0           0"
      ]
     },
     "execution_count": 71,
     "metadata": {},
     "output_type": "execute_result"
    }
   ],
   "source": [
    "compare_df.sample(10)"
   ]
  },
  {
   "cell_type": "markdown",
   "id": "ef8187fb",
   "metadata": {},
   "source": [
    "###  Model Evaluation and Performance"
   ]
  },
  {
   "cell_type": "code",
   "execution_count": 72,
   "id": "ebbfc397",
   "metadata": {},
   "outputs": [],
   "source": [
    "from sklearn.metrics import classification_report, confusion_matrix"
   ]
  },
  {
   "cell_type": "code",
   "execution_count": 73,
   "id": "015b751d",
   "metadata": {},
   "outputs": [
    {
     "name": "stdout",
     "output_type": "stream",
     "text": [
      "              precision    recall  f1-score   support\n",
      "\n",
      "           0       0.99      0.98      0.99      3428\n",
      "           1       0.95      0.97      0.96      1072\n",
      "\n",
      "    accuracy                           0.98      4500\n",
      "   macro avg       0.97      0.98      0.97      4500\n",
      "weighted avg       0.98      0.98      0.98      4500\n",
      "\n"
     ]
    }
   ],
   "source": [
    "print(classification_report(y_test, predictions))"
   ]
  },
  {
   "cell_type": "code",
   "execution_count": 74,
   "id": "b3acc5f7",
   "metadata": {},
   "outputs": [
    {
     "data": {
      "text/plain": [
       "<AxesSubplot:>"
      ]
     },
     "execution_count": 74,
     "metadata": {},
     "output_type": "execute_result"
    },
    {
     "data": {
      "image/png": "[encoded data removed]",
      "text/plain": [
       "<Figure size 432x288 with 1 Axes>"
      ]
     },
     "metadata": {},
     "output_type": "display_data"
    }
   ],
   "source": [
    "sns.heatmap(confusion_matrix(y_test, predictions), annot=True, cbar=False, fmt=\"d\")"
   ]
  }
 ],
 "metadata": {
  "kernelspec": {
   "display_name": "Python 3",
   "language": "python",
   "name": "python3"
  },
  "language_info": {
   "codemirror_mode": {
    "name": "ipython",
    "version": 3
   },
   "file_extension": ".py",
   "mimetype": "text/x-python",
   "name": "python",
   "nbconvert_exporter": "python",
   "pygments_lexer": "ipython3",
   "version": "3.8.8"
  }
 },
 "nbformat": 4,
 "nbformat_minor": 5
}
